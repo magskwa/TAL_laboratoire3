{
 "cells": [
  {
   "cell_type": "markdown",
   "metadata": {},
   "source": [
    "<img src=\"http://iict-space.heig-vd.ch/apu/wp-content/uploads/sites/21/2022/01/2020-slim.png\" alt=\"HEIG-VD Logo\" width=\"100\" align=\"right\"/>\n",
    "\n",
    "# Cours TAL - Laboratoire 3 : Analyse syntaxique du français\n",
    "\n",
    "**Objectifs**\n",
    "\n",
    "1. Utiliser un analyseur syntaxique **en constituants** pour extraire tous les groupes nominaux d'un texte.\n",
    "1. Appliquer un analyseur syntaxique **de dépendances** sur des données de test en français et calculer son score.\n",
    "1. Entraîner l'analyseur **de dépendances** sur des données adaptées et mesurer si les performances se sont améliorées ou non."
   ]
  },
  {
   "cell_type": "markdown",
   "metadata": {},
   "source": [
    "## 1.\tUtiliser un analyseur syntaxique en constituants pour extraire les groupe nominaux\n",
    "\n",
    "Vous utiliserez l'analyseur syntaxique en constituants appelé `LexicalizedParser` fourni parmi les outils CoreNLP de Stanford, et [documenté ici](https://nlp.stanford.edu/nlp/javadoc/javanlp/edu/stanford/nlp/parser/lexparser/LexicalizedParser.html).  \n",
    "\n",
    "\n",
    "* **code Java** : fichier `stanford-corenlp-3.9.2.jar` (8 Mo) fourni sur Cyberlearn\n",
    "* **modèle** : fichier `frenchFactored.ser.gz` (4 Mo) fourni sur Cyberlearn\n",
    "* **données** : fichier `exemple.txt` fourni sur Cyberlearn\n",
    "\n",
    "a. Veuillez écrire la ligne de commande (java) qui effecte l'analyse syntaxique en constituants du texte `exemple.txt`. Choisissez 'oneline' comme format et écrivez les résultats dans un ficher."
   ]
  },
  {
   "cell_type": "code",
   "execution_count": 4,
   "metadata": {},
   "outputs": [
    {
     "name": "stderr",
     "output_type": "stream",
     "text": [
      "Loading parser from serialized file frenchFactored.ser.gz ... done [2.2 sec].\n",
      "Parsing file: exemple.txt\n",
      "edu.stanford.nlp.international.french.process.FrenchLexer: Invalid options key in constructor: splitContractions\n",
      "Parsing [sent. 1 len. 12]: Les gares voyageurs sont en fait des ensembles fonctionnels plus larges .\n",
      "Parsing [sent. 2 len. 20]: Elles regroupent toutes les fonctions centrées sur l' accès à le train et l' achat des titres de transport .\n",
      "Parsing [sent. 3 len. 11]: Elles offrent aussi divers services commerciaux liés à le voyage .\n",
      "Parsing [sent. 4 len. 16]: Pour certaines gares , le passage de nombreux voyageurs justifie l' installation de fonctions annexes .\n",
      "Parsing [sent. 5 len. 13]: Il s' agit , par exemple , de commerces et services variés .\n",
      "Parsing [sent. 6 len. 12]: Les gares peu importantes sont appelées haltes ou points d' arrêt .\n",
      "Parsing [sent. 7 len. 23]: Le train est un matériel roulant ferroviaire assurant le transport de personnes ou de marchandises sur une ligne de chemin de fer .\n",
      "\n",
      "*******************************************************\n",
      "***  WARNING!! OUT OF MEMORY! THERE WAS NOT ENOUGH  ***\n",
      "***  MEMORY TO RUN ALL PARSERS.  EITHER GIVE THE    ***\n",
      "***  JVM MORE MEMORY, SET THE MAXIMUM SENTENCE      ***\n",
      "***  LENGTH WITH -maxLength, OR PERHAPS YOU ARE     ***\n",
      "***  HAPPY TO HAVE THE PARSER FALL BACK TO USING    ***\n",
      "***  A SIMPLER PARSER FOR VERY LONG SENTENCES.      ***\n",
      "*******************************************************\n",
      "\n",
      "Sentence too long for dependency parser.  Falling back to PCFG parse...\n",
      "Parsing [sent. 8 len. 19]: Par extension , on appelle train le service que constitue chacun de ces transports , réguliers ou non .\n",
      "Parsing [sent. 9 len. 14]: Le train est un mode de transport , s' effectuant sur voie ferrée .\n",
      "Parsing [sent. 10 len. 40]: Cependant , dans l' usage courant , le mot train désigne n' importe quelle circulation ferroviaire , quelle que soit sa composition , depuis le plus simple autorail local jusqu'aux longs trains de grandes lignes ou de transports industriels .\n",
      "Sentence too long for dependency parser.  Falling back to PCFG parse...\n",
      "Parsed file: exemple.txt [10 sentences].\n",
      "\n",
      "*******************************************************\n",
      "***  WARNING!! OUT OF MEMORY! THERE WAS NOT ENOUGH  ***\n",
      "***  MEMORY TO RUN ALL PARSERS.  EITHER GIVE THE    ***\n",
      "***  JVM MORE MEMORY, SET THE MAXIMUM SENTENCE      ***\n",
      "***  LENGTH WITH -maxLength, OR PERHAPS YOU ARE     ***\n",
      "***  HAPPY TO HAVE THE PARSER FALL BACK TO USING    ***\n",
      "***  A SIMPLER PARSER FOR VERY LONG SENTENCES.      ***\n",
      "*******************************************************\n",
      "\n",
      "Parsed 180 words in 10 sentences (33,15 wds/sec; 1,84 sents/sec).\n",
      "  2 sentences were parsed by fallback to PCFG.\n"
     ]
    }
   ],
   "source": [
    "! java -Xmx1024m -cp stanford-corenlp-3.9.2.jar edu.stanford.nlp.parser.lexparser.LexicalizedParser -outputFormat oneline -writeOutputFiles frenchFactored.ser.gz exemple.txt"
   ]
  },
  {
   "cell_type": "markdown",
   "metadata": {},
   "source": [
    "b. Importez le fichier de résultats du LexicalizedParser comme une liste d'arbres, en utilisant la classe `BracketParseCorpusReader` de NLTK.  Chaque ligne contenant une analyse syntaxique sera importée comme un objet `Tree` de NLTK. "
   ]
  },
  {
   "cell_type": "code",
   "execution_count": 5,
   "metadata": {},
   "outputs": [
    {
     "name": "stderr",
     "output_type": "stream",
     "text": [
      "c:\\Users\\nicol\\miniconda3\\envs\\isd\\lib\\site-packages\\numpy\\_distributor_init.py:30: UserWarning: loaded more than 1 DLL from .libs:\n",
      "c:\\Users\\nicol\\miniconda3\\envs\\isd\\lib\\site-packages\\numpy\\.libs\\libopenblas.WCDJNK7YVMPZQ2ME2ZZHJJRJ3JIKNDB7.gfortran-win_amd64.dll\n",
      "c:\\Users\\nicol\\miniconda3\\envs\\isd\\lib\\site-packages\\numpy\\.libs\\libopenblas64__v0.3.21-gcc_10_3_0.dll\n",
      "  warnings.warn(\"loaded more than 1 DLL from .libs:\"\n"
     ]
    }
   ],
   "source": [
    "from nltk.corpus.reader.bracket_parse import BracketParseCorpusReader\n",
    "from nltk.tree import Tree\n",
    "from nltk.draw.tree import TreeView\n",
    "\n",
    "bracket = BracketParseCorpusReader('.', 'exemple.txt.stp')"
   ]
  },
  {
   "cell_type": "code",
   "execution_count": 6,
   "metadata": {},
   "outputs": [],
   "source": [
    "sents = []\n",
    "for sent in bracket.parsed_sents():\n",
    "    sents.append(sent)\n"
   ]
  },
  {
   "cell_type": "markdown",
   "metadata": {},
   "source": [
    "c. Cherchez dans la [documentation](https://www.nltk.org/_modules/nltk/tree.html#Tree) de `Tree` une fonction d'affichage, et affichez l'arbre de la première ligne."
   ]
  },
  {
   "cell_type": "code",
   "execution_count": 7,
   "metadata": {},
   "outputs": [
    {
     "name": "stdout",
     "output_type": "stream",
     "text": [
      "                                   ROOT                                                \n",
      "                                    |                                                   \n",
      "                                   SENT                                                \n",
      "       _____________________________|_______________________________________________    \n",
      "      NP             |         |                           NP                       |  \n",
      "  ____|_______       |         |          _________________|_____________           |   \n",
      " |    |       AP     VN      MWADV       |      |          AP            AP         |  \n",
      " |    |       |      |     ____|____     |      |          |         ____|____      |   \n",
      "DET   NC     ADJ     V    P         N   DET     NC        ADJ      ADV       ADJ   PUNC\n",
      " |    |       |      |    |         |    |      |          |        |         |     |   \n",
      "Les gares voyageurs sont  en       fait des ensembles fonctionnels plus     larges  .  \n",
      "\n",
      "None\n"
     ]
    }
   ],
   "source": [
    "print(sents[0].pretty_print())"
   ]
  },
  {
   "cell_type": "markdown",
   "metadata": {},
   "source": [
    "d.  Écrivez le code qui extrait les groupes nominaux de toutes les phrases (en anglais: Noun Phrases), et qui affiche les 5 les plus fréquents avec leurs nombres d'occurrences."
   ]
  },
  {
   "cell_type": "code",
   "execution_count": 8,
   "metadata": {},
   "outputs": [
    {
     "name": "stdout",
     "output_type": "stream",
     "text": [
      "[('transport', 2), ('Le train', 2), ('Les gares voyageurs', 1), ('des ensembles fonctionnels plus larges', 1), (\"toutes les fonctions centrées sur l' accès à le train et l' achat des titres de transport\", 1)]\n"
     ]
    }
   ],
   "source": [
    "# \n",
    "np_trees = []\n",
    "for sent in sents:\n",
    "    for subtree in sent.subtrees(lambda t: t.label() == 'NP'):\n",
    "        np_trees.append(subtree.leaves())\n",
    "\n",
    "np_freq = {}\n",
    "for np in np_trees:\n",
    "    np_str = ' '.join(np)\n",
    "    if np_str in np_freq:\n",
    "        np_freq[np_str] += 1\n",
    "    else:\n",
    "        np_freq[np_str] = 1\n",
    "\n",
    "sorted_np_freq = sorted(np_freq.items(), key=lambda x: x[1], reverse=True)\n",
    "print(sorted_np_freq[:5])\n",
    "\n"
   ]
  },
  {
   "cell_type": "markdown",
   "metadata": {},
   "source": [
    "e. Veuillez répéter l'expérience avec un texte plus long (un texte en français du projet Gutenberg) et afficher les 20 groupes nominaux les plus fréquents.  Veuillez indiquer approximativement combien de temps a pris l'analyse syntaxique."
   ]
  },
  {
   "cell_type": "code",
   "execution_count": 9,
   "metadata": {},
   "outputs": [],
   "source": [
    "# Importation du texte \"les misérables\"\n",
    "from urllib import request\n",
    "url = 'https://www.gutenberg.org/files/17489/17489-8.txt'\n",
    "response = request.urlopen(url)\n",
    "raw = response.read().decode('ISO-8859-1')\n",
    "\n",
    "# create a file miserables.txt\n",
    "with open('miserables.txt', 'w') as f:\n",
    "    f.write(raw.replace('\\n', ' '))"
   ]
  },
  {
   "cell_type": "code",
   "execution_count": 10,
   "metadata": {},
   "outputs": [
    {
     "name": "stderr",
     "output_type": "stream",
     "text": [
      "Loading parser from serialized file frenchFactored.ser.gz ... done [2.0 sec].\n",
      "Parsing file: miserables.txt\n",
      "edu.stanford.nlp.international.french.process.FrenchLexer: Invalid options key in constructor: splitContractions\n",
      "Parsing [sent. 1 len. 32]: The Project Gutenberg EBook of Les misérables Tome I , by Victor Hugo This eBook is for the use of anyone anywhere at no cost and with almost no restrictions whatsoever .\n",
      "\n",
      "*******************************************************\n",
      "***  WARNING!! OUT OF MEMORY! THERE WAS NOT ENOUGH  ***\n",
      "***  MEMORY TO RUN ALL PARSERS.  EITHER GIVE THE    ***\n",
      "***  JVM MORE MEMORY, SET THE MAXIMUM SENTENCE      ***\n",
      "***  LENGTH WITH -maxLength, OR PERHAPS YOU ARE     ***\n",
      "***  HAPPY TO HAVE THE PARSER FALL BACK TO USING    ***\n",
      "***  A SIMPLER PARSER FOR VERY LONG SENTENCES.      ***\n",
      "*******************************************************\n",
      "\n",
      "Sentence too long for dependency parser.  Falling back to PCFG parse...\n",
      "Parsing [sent. 2 len. 642]: You may copy it , give it away or re - use it under the terms of the Project Gutenberg License included with this eBook or online at www.gutenberg.org Title : Les misérables Tome I Fantine Author : Victor Hugo Release Date : January 10 , 2006 [ EBook # 17489 ] [ Date last updated : July 28 , 2010 ] Language : French Character set encoding : ISO -8859-1 *** START OF THIS PROJECT GUTENBERG EBOOK LES MISÉRABLES TOME I *** Produced by www.ebooksgratuits.com and Chuck Greif Victor Hugo LES MISÉRABLES Tome I -- FANTINE -LRB- 1862 -RRB- TABLE DES MATIÈRES Livre premier -- Un juste Chapitre I Monsieur Myriel Chapitre II Monsieur Myriel devient monseigneur Bienvenu Chapitre III À bon évêque dur évêché Chapitre IV Les oeuvres semblables à les paroles Chapitre V Que monseigneur Bienvenu faisait durer trop longtemps ses soutanes Chapitre VI Par qui il faisait garder sa maison Chapitre VII Cravatte Chapitre VIII Philosophie après boire Chapitre IX Le frère raconté par la soeur Chapitre X L' évêque en présence d' une lumière inconnue Chapitre XI Une restriction Chapitre XII Solitude de monseigneur Bienvenu Chapitre XIII Ce qu' il croyait Chapitre XIV Ce qu' il pensait Livre deuxième -- La chute Chapitre I Le soir d' un jour de marche Chapitre II La prudence conseillée à la sagesse Chapitre III Héroïsme de l' obéissance passive Chapitre IV Détails sur les fromageries de Pontarlier Chapitre V Tranquillité Chapitre VI Jean Valjean Chapitre VII Le dedans de le désespoir Chapitre VIII L' onde et l' ombre Chapitre IX Nouveaux griefs Chapitre X L' homme réveillé Chapitre XI Ce qu' il fait Chapitre XII L' évêque travaille Chapitre XIII Petit - Gervais Livre troisième -- En l' année 1817 Chapitre I L' année 1817 Chapitre II Double quatuor Chapitre III Quatre à quatre Chapitre IV Tholomyès est si joyeux qu' il chante une chanson espagnole Chapitre V Chez Bombarda Chapitre VI Chapitre où l' on s' adore Chapitre VII Sagesse de Tholomyès Chapitre VIII Mort d' un cheval Chapitre IX Fin joyeuse de la joie Livre quatrième -- Confier , c' est quelquefois livrer Chapitre I Une mère qui en rencontre une autre Chapitre II Première esquisse de deux figures louches Chapitre III L' Alouette Livre cinquième -- La descente Chapitre I Histoire d' un progrès dans les verroteries noires Chapitre II M. Madeleine Chapitre III Sommes déposées chez Laffitte Chapitre IV M. Madeleine en deuil Chapitre V Vagues éclairs à l' horizon Chapitre VI Le père Fauchelevent Chapitre VII Fauchelevent devient jardinier à Paris Chapitre VIII Madame Victurnien dépense trente - cinq francs pour la morale Chapitre IX Succès de Madame Victurnien Chapitre X Suite de le succès Chapitre XI _ Christus nos liberavit _ Chapitre XII Le désoeuvrement de M. Bamatabois Chapitre XIII Solution de quelques questions de police municipale Livre sixième -- Javert Chapitre I Commencement de le repos Chapitre II Comment Jean peut devenir Champ Livre septième -- L' affaire Champmathieu Chapitre I La soeur Simplice Chapitre II Perspicacité de maître Scaufflaire Chapitre III Une tempête sous un crâne Chapitre IV Formes que prend la souffrance pendant le sommeil Chapitre V Bâtons dans les roues Chapitre VI La soeur Simplice mise à l' épreuve Chapitre VII Le voyageur arrivé prend ses précautions pour repartir Chapitre VIII Entrée de faveur Chapitre IX Un lieu où des convictions sont en train de se former Chapitre X Le système de dénégations Chapitre XI Champmathieu de plus en plus étonné Livre huitième -- Contre - coup Chapitre I Dans quel miroir M. Madeleine regarde ses cheveux Chapitre II Fantine heureuse Chapitre III Javert content Chapitre IV L' autorité reprend ses droits Chapitre V Tombeau convenable Livre premier -- Un juste Chapitre I Monsieur Myriel En 1815 , M. Charles - François - Bienvenu Myriel était évêque de Digne .\n",
      "Sentence has no parse using PCFG grammar (or no PCFG fallback).  Skipping...\n",
      "Exception in thread \"main\" edu.stanford.nlp.parser.common.NoSuchParseException\n",
      "\tat edu.stanford.nlp.parser.lexparser.LexicalizedParserQuery.getBestParse(LexicalizedParserQuery.java:403)\n",
      "\tat edu.stanford.nlp.parser.lexparser.LexicalizedParserQuery.getBestParse(LexicalizedParserQuery.java:375)\n",
      "\tat edu.stanford.nlp.parser.lexparser.ParseFiles.processResults(ParseFiles.java:272)\n",
      "\tat edu.stanford.nlp.parser.lexparser.ParseFiles.parseFiles(ParseFiles.java:216)\n",
      "\tat edu.stanford.nlp.parser.lexparser.ParseFiles.parseFiles(ParseFiles.java:75)\n",
      "\tat edu.stanford.nlp.parser.lexparser.LexicalizedParser.main(LexicalizedParser.java:1518)\n"
     ]
    }
   ],
   "source": [
    "! java -Xmx1024m -cp stanford-corenlp-3.9.2.jar edu.stanford.nlp.parser.lexparser.LexicalizedParser -outputFormat oneline -writeOutputFiles frenchFactored.ser.gz miserables.txt"
   ]
  },
  {
   "cell_type": "code",
   "execution_count": 11,
   "metadata": {},
   "outputs": [
    {
     "name": "stdout",
     "output_type": "stream",
     "text": [
      "                                                                                        ROOT                                                                                                   \n",
      "                                                                                         |                                                                                                      \n",
      "                                                                                        SENT                                                                                                   \n",
      "                 ________________________________________________________________________|__________________________________________________________________________________________________    \n",
      "                |                                                                                 NP                                                                                        |  \n",
      "                |                 ________________________________________________________________|____________                                                                             |   \n",
      "                NP               |      |       |    |   |                                                     NP                                                                           |  \n",
      "                |                |      |       |    |   |     ________________________________________________|____________________________________________________________                |   \n",
      "               MWN               |      |       |    AP  |    |    |     |    |     |    |    |   |   |   |    |       |      |   |   |    |   |     |     |               MWET             |  \n",
      "  ______________|____________    |      |       |    |   |    |    |     |    |     |    |    |   |   |   |    |       |      |   |   |    |   |     |     |        ________|_______        |   \n",
      " ET    ET       ET      ET   ET DET    ADJ      NC  ADJ PUNC  ET   ET    ET   ET    ET   ET   ET  ET  ET  ET   ET      ET     ET  ET  ET   ET  ET    ET    ET      ET               ET     PUNC\n",
      " |     |        |       |    |   |      |       |    |   |    |    |     |    |     |    |    |   |   |   |    |       |      |   |   |    |   |     |     |       |                |       |   \n",
      "The Project Gutenberg EBook  of Les misérables Tome  I   ,    by Victor Hugo This eBook  is  for the use  of anyone anywhere  at  no cost and with almost  no restrictions      whatsoever  .  \n",
      "\n",
      "None\n"
     ]
    }
   ],
   "source": [
    "from nltk.corpus.reader.bracket_parse import BracketParseCorpusReader\n",
    "from nltk.tree import Tree\n",
    "from nltk.draw.tree import TreeView\n",
    "\n",
    "bracket = BracketParseCorpusReader('.', 'miserables.txt.stp')\n",
    "\n",
    "sents = []\n",
    "for sent in bracket.parsed_sents():\n",
    "    sents.append(sent)\n",
    "\n",
    "print(sents[0].pretty_print())"
   ]
  },
  {
   "cell_type": "code",
   "execution_count": 12,
   "metadata": {},
   "outputs": [
    {
     "name": "stdout",
     "output_type": "stream",
     "text": [
      "[('The Project Gutenberg EBook of', 1), ('Les misérables Tome I , by Victor Hugo This eBook is for the use of anyone anywhere at no cost and with almost no restrictions whatsoever', 1), ('by Victor Hugo This eBook is for the use of anyone anywhere at no cost and with almost no restrictions whatsoever', 1)]\n"
     ]
    }
   ],
   "source": [
    "\n",
    "np_trees = []\n",
    "for sent in sents:\n",
    "    for subtree in sent.subtrees(lambda t: t.label() == 'NP'):\n",
    "        np_trees.append(subtree.leaves())\n",
    "\n",
    "np_freq = {}\n",
    "for np in np_trees:\n",
    "    np_str = ' '.join(np)\n",
    "    if np_str in np_freq:\n",
    "        np_freq[np_str] += 1\n",
    "    else:\n",
    "        np_freq[np_str] = 1\n",
    "\n",
    "sorted_np_freq = sorted(np_freq.items(), key=lambda x: x[1], reverse=True)\n",
    "print(sorted_np_freq[:20])\n"
   ]
  },
  {
   "attachments": {},
   "cell_type": "markdown",
   "metadata": {},
   "source": [
    "L'analyse syntaxique a pris environ une minute. Il y a beaucoup de phrases qui sont trop longues pour être parsées correctement par le parser de Stanford. Néanmoins nous avons estimé que les 85 phrases parsées étaient suffisantes pour avoir une idée de la fréquence des groupes nominaux."
   ]
  },
  {
   "cell_type": "markdown",
   "metadata": {},
   "source": [
    "## 2. Analyse de dépendances\n",
    "\n",
    "Dans cette partie, vous utiliserez le [Stanford Dependency Parser](https://nlp.stanford.edu/software/nndep.html), un analyseur fondé sur un réseau de neurones.\n",
    "\n",
    "* **code Java** : fichier `stanford-corenlp-3.9.2.jar` (8 Mo) fourni sur Cyberlearn (note: on peut le télécharger avec un [package fourni par Stanford](https://nlp.stanford.edu/software/lex-parser.html) ou depuis le [site Maven de Stanford CoreNLP](https://search.maven.org/artifact/edu.stanford.nlp/stanford-corenlp/3.9.2/jar))\n",
    "* **modèle** : fichier `UD_French.gz` (10 Mo) fourni sur Cyberlearn (note: plusieurs modèles sont disponibles sur le site Maven, dont un package pour le français de 272 MB, mais ici vous aurez seulement besoin du modèle UD pour Universal Dependencies)\n",
    "* **données** : les mêmes que pour le labo 2, disponibles dans [l'archive ZIP fournie par l'enseignant](https://drive.switch.ch/index.php/s/5ZNllZOApTWHGwH) (mot de passe = reference).  Ces textes en français proviennent du projet [Universal Dependencies (UD)](https://github.com/UniversalDependencies/UD_French-GSD).  Le fichier `fr-ud-train.conllu3` est destiné à l'entraînement, `fr-ud-dev.conllu3` à la validation, et `fr-ud-test.conllu3` à l'évaluation finale."
   ]
  },
  {
   "cell_type": "markdown",
   "metadata": {},
   "source": [
    "Pour effectuer les tâches suivantes, utilisez la [documentation](https://nlp.stanford.edu/nlp/javadoc/javanlp/edu/stanford/nlp/parser/nndep/DependencyParser.html) et regardez surtout le `main()` et les exemples données à la fin.\n",
    "\n",
    "a. Exécuter le parser en Java (avec une commande externe `!java -cp ...` comme au labo 2) en l'appliquant au fichier UD de *test* en français.  Écrivez le résultat détaillé dans un fichier plutôt qu'à l'écran.  Quels sont les deux scores obtenus et que signifient-ils ?\n"
   ]
  },
  {
   "cell_type": "code",
   "execution_count": 13,
   "metadata": {},
   "outputs": [
    {
     "name": "stderr",
     "output_type": "stream",
     "text": [
      "Loading depparse model: UD_French.gz ... \n",
      "###################\n",
      "#Transitions: 81\n",
      "#Labels: 40\n",
      "ROOTLABEL: root\n",
      "PreComputed 99996, Elapsed Time: 10.871 (s)\n",
      "Initializing dependency parser ... done [11.9 sec].\n",
      "Test File: fr-ud-test.conllu3\n",
      "OOV Words: 608 / 10020 = 6,07%\n",
      "UAS = 55,0699\n",
      "LAS = 41,1577\n",
      "DependencyParser parsed 10020 words in 416 sentences in 4,3s at 2305,6 w/s, 95,7 sent/s.\n"
     ]
    }
   ],
   "source": [
    "# Veuillez écrire ici la commande pour tester le parser avec le modèle pré-entraîné.\n",
    "# ! java -Xmx1024m -cp stanford-corenlp-3.9.2.jar edu.stanford.nlp.parser.lexparser.LexicalizedParser -outputFormat oneline -writeOutputFiles frenchFactored.ser.gz miserables.txt\n",
    "# ! java -cp stanford-postagger.jar edu.stanford.nlp.tagger.maxent.MaxentTagger -model french-ud.tagger -testFile \"format=TSV,wordColumn=1,tagColumn=3,fr-ud-dev.conllu3\" -ou\n",
    "! java -Xmx1024m -cp stanford-corenlp-3.9.2.jar edu.stanford.nlp.parser.nndep.DependencyParser -model UD_French.gz -testFile fr-ud-test.conllu3 -outFile fr-ud-test.conllu3.out"
   ]
  },
  {
   "attachments": {},
   "cell_type": "markdown",
   "metadata": {},
   "source": [
    "Les deux scores obtenus sont UAS (Unlabeled Attachment Score) et LAS (Labeled Attachment Score). UAS est le pourcentage de mots auxquels on a attribué le bon groupe syntaxique, tandis que LAS est le pourcentage de mots auxquels on a attribué le bon groupe syntaxique ainsi que le bon label."
   ]
  },
  {
   "cell_type": "markdown",
   "metadata": {},
   "source": [
    "## 3. Entraîner l'analyseur de dépendances\n",
    "\n",
    "a. Veuillez entraîner l'analyseur en suivant les indications suivantes:\n",
    "* donnez un nouveau nom au modèle qui sera créé (ne pas écraser l'ancien)\n",
    "* utilisez à la fois `train` et `dev` comme indiqué dans la documentation\n",
    "* évitez un output trop verbeux en le redirigeant vers un fichier `output.txt` (ajoutez `>output.txt 2>&1` à la commande)\n",
    "* plusieurs options indiquées dans la documentation peuvent être utiles\n",
    "  * `-wordCutOff 3` pour traiter seulement les mots apparaissant plus de 3 fois, ce qui évite en particulier le problème des nombres écrits avec un espace (apparaissant 1 fois)\n",
    "  * `-trainingThreads 4` pour utiliser pleinement votre processeur : indiquez le maximum selon votre modèle\n",
    "  * `-maxIter 5000` pour arrêter l'entraînement après 5000 itérations (essayez d'abord beaucoup moins pour vous faire une idée du temps, puis si vous le pouvez, allez plus loin que 5000)"
   ]
  },
  {
   "cell_type": "code",
   "execution_count": 2,
   "metadata": {},
   "outputs": [],
   "source": [
    "# Veuillez écrire ici la commande pour entraîner l'analyseur sur le fichier 'train' et créer un nouveau modèle.\n",
    "# Pour ne pas bloquer votre notebook, vous pouvez l'exécuter dans l'invite de commandes.\n",
    "! java -Xmx8g -cp stanford-corenlp-3.9.2.jar edu.stanford.nlp.parser.nndep.DependencyParser -trainFile fr-ud-train.conllu3 -devFile fr-ud-dev.conllu3 -model UD_French_custom.gz -wordCutOff 3 -trainingThreads 8 -maxIter 5000 >output.txt 2>&1"
   ]
  },
  {
   "cell_type": "markdown",
   "metadata": {},
   "source": [
    "b. Quels sont les scores (sur les données de test) du système que vous avez entraîné ?  Comment se comparent-ils avec ceux du système par défaut ?"
   ]
  },
  {
   "cell_type": "code",
   "execution_count": 3,
   "metadata": {},
   "outputs": [
    {
     "name": "stderr",
     "output_type": "stream",
     "text": [
      "Loading depparse model: UD_French_custom.gz ... \n",
      "Loaded TreebankLanguagePack: edu.stanford.nlp.trees.PennTreebankLanguagePack\n",
      "###################\n",
      "#Transitions: 91\n",
      "#Labels: 45\n",
      "ROOTLABEL: root\n",
      "PreComputed 100000, Elapsed Time: 0.981 (s)\n",
      "Initializing dependency parser ... done [1.6 sec].\n",
      "Test File: fr-ud-test.conllu3\n",
      "OOV Words: 1100 / 10020 = 10,98%\n",
      "UAS = 77,8343\n",
      "LAS = 71,5768\n",
      "DependencyParser parsed 10020 words in 416 sentences in 0,6s at 16345,8 w/s, 678,6 sent/s.\n"
     ]
    }
   ],
   "source": [
    "# Veuillez écrire ici la commande pour tester l'analyseur avec le nouveau modèle.\n",
    "! java -Xmx1024m -cp stanford-corenlp-3.9.2.jar edu.stanford.nlp.parser.nndep.DependencyParser -model UD_French_custom.gz -testFile fr-ud-test.conllu3 -outFile fr-ud-test-custom.conllu3.out"
   ]
  },
  {
   "attachments": {},
   "cell_type": "markdown",
   "metadata": {},
   "source": [
    "Le score UAS du système que nous avons entraîné est de 77.83% tandis que le score LAS est de 71.58%. Ces scores sont largement supérieurs aux UAS de 55.07% et LAS de 41.16% obtenus par le système par défaut. Il s'agit du comportement attendu puisque nous avons cette fois-ci entraîné le modèle sur des données similaires aux données de test contrairement au système par défaut qui a été entraîné sur des données différentes."
   ]
  },
  {
   "cell_type": "markdown",
   "metadata": {},
   "source": [
    "c. En traitant le fichier de logs du parser (après l'entraînement), collectez les scores UAS obtenus sur l'ensemble de développement (ou validation).  Affichez sur un graphe l'évolution du score au cours de l'entraînement.  À quelle itération obtenez-vous la valeur maximale de ce score ? Le nombre d'itérations de l'entraînement vous semble-t-il suffisant  ?"
   ]
  },
  {
   "cell_type": "code",
   "execution_count": 6,
   "metadata": {},
   "outputs": [
    {
     "data": {
      "text/plain": [
       "50"
      ]
     },
     "execution_count": 6,
     "metadata": {},
     "output_type": "execute_result"
    }
   ],
   "source": [
    "# Veuillez écrire ici le code qui extrait les valeurs.\n",
    "\n",
    "uas = []\n",
    "with open('output.txt', 'r') as f:\n",
    "    lines = f.readlines()\n",
    "    for line in lines:\n",
    "        if 'UAS' in line:\n",
    "            # traitement de la ligne pour en extraire la valeur de la métrique\n",
    "            uas.append(float(line.split(' ')[-1]))\n"
   ]
  },
  {
   "cell_type": "code",
   "execution_count": 12,
   "metadata": {},
   "outputs": [],
   "source": [
    "import matplotlib.pyplot as plt\n",
    "%matplotlib inline"
   ]
  },
  {
   "cell_type": "code",
   "execution_count": 18,
   "metadata": {},
   "outputs": [
    {
     "data": {
      "text/plain": [
       "[<matplotlib.lines.Line2D at 0x13833a1f460>]"
      ]
     },
     "execution_count": 18,
     "metadata": {},
     "output_type": "execute_result"
    },
    {
     "data": {
      "image/png": "[encoded data removed]",
      "text/plain": [
       "<Figure size 720x504 with 1 Axes>"
      ]
     },
     "metadata": {
      "needs_background": "light"
     },
     "output_type": "display_data"
    }
   ],
   "source": [
    "# Écrivez ici le code affichant la courbe, avec les valeurs de x multipliées par 100\n",
    "plt.figure(figsize=(10, 7))\n",
    "plt.title('Courbe d\\'apprentissage')\n",
    "plt.xlabel('Nombre d\\'itérations')\n",
    "plt.ylabel('UAS')\n",
    "plt.plot([i*100 for i in range(len(uas))], uas)"
   ]
  },
  {
   "attachments": {},
   "cell_type": "markdown",
   "metadata": {},
   "source": [
    "La valeur maximale de ce score est obtenue à l'itération 5000, à savoir la dernière itération de notre entraînement. A partir d'environ 2000 itérations, la courbe semble se stabiliser. Cependant, on constate également que le score UAS continue d'augmenter jusqu'à la dernière itération, ce qui nous incite à augmenter le nombre d'itérations afin d'observer le comportement de la courbe. En effet, elle pourrait continuer à augmenter, mais elle pourrait également commencer à redescendre, ce qui serait un signe d'overfitting et donc d'un nombre trop élevé d'itérations."
   ]
  },
  {
   "cell_type": "markdown",
   "metadata": {},
   "source": [
    "## Fin du laboratoire 3\n",
    "\n",
    "Merci de nettoyer votre feuille et de la sauvegarder.  Puis soumettez-la sur Cyberlearn."
   ]
  }
 ],
 "metadata": {
  "kernelspec": {
   "display_name": "isd",
   "language": "python",
   "name": "python3"
  },
  "language_info": {
   "codemirror_mode": {
    "name": "ipython",
    "version": 3
   },
   "file_extension": ".py",
   "mimetype": "text/x-python",
   "name": "python",
   "nbconvert_exporter": "python",
   "pygments_lexer": "ipython3",
   "version": "3.9.2"
  },
  "vscode": {
   "interpreter": {
    "hash": "2cf5a26b1bcd07d51592f9eb099dfebbb085f41071867df938a2add6161b937c"
   }
  }
 },
 "nbformat": 4,
 "nbformat_minor": 2
}
