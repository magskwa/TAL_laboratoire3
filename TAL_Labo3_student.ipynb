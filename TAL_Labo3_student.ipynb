{
 "cells": [
  {
   "cell_type": "markdown",
   "metadata": {},
   "source": [
    "<img src=\"http://iict-space.heig-vd.ch/apu/wp-content/uploads/sites/21/2022/01/2020-slim.png\" alt=\"HEIG-VD Logo\" width=\"100\" align=\"right\"/>\n",
    "\n",
    "# Cours TAL - Laboratoire 3 : Analyse syntaxique du français\n",
    "\n",
    "**Objectifs**\n",
    "\n",
    "1. Utiliser un analyseur syntaxique **en constituants** pour extraire tous les groupes nominaux d'un texte.\n",
    "1. Appliquer un analyseur syntaxique **de dépendances** sur des données de test en français et calculer son score.\n",
    "1. Entraîner l'analyseur **de dépendances** sur des données adaptées et mesurer si les performances se sont améliorées ou non."
   ]
  },
  {
   "cell_type": "markdown",
   "metadata": {},
   "source": [
    "## 1.\tUtiliser un analyseur syntaxique en constituants pour extraire les groupe nominaux\n",
    "\n",
    "Vous utiliserez l'analyseur syntaxique en constituants appelé `LexicalizedParser` fourni parmi les outils CoreNLP de Stanford, et [documenté ici](https://nlp.stanford.edu/nlp/javadoc/javanlp/edu/stanford/nlp/parser/lexparser/LexicalizedParser.html).  \n",
    "\n",
    "\n",
    "* **code Java** : fichier `stanford-corenlp-3.9.2.jar` (8 Mo) fourni sur Cyberlearn\n",
    "* **modèle** : fichier `frenchFactored.ser.gz` (4 Mo) fourni sur Cyberlearn\n",
    "* **données** : fichier `exemple.txt` fourni sur Cyberlearn\n",
    "\n",
    "a. Veuillez écrire la ligne de commande (java) qui effecte l'analyse syntaxique en constituants du texte `exemple.txt`. Choisissez 'oneline' comme format et écrivez les résultats dans un ficher."
   ]
  },
  {
   "cell_type": "code",
   "execution_count": 19,
   "metadata": {},
   "outputs": [
    {
     "name": "stderr",
     "output_type": "stream",
     "text": [
      "Loading parser from serialized file frenchFactored.ser.gz ... done [1.3 sec].\n",
      "Parsing file: exemple.txt\n",
      "edu.stanford.nlp.international.french.process.FrenchLexer: Invalid options key in constructor: splitContractions\n",
      "Parsing [sent. 1 len. 12]: Les gares voyageurs sont en fait des ensembles fonctionnels plus larges .\n",
      "Parsing [sent. 2 len. 20]: Elles regroupent toutes les fonctions centrées sur l' accès à le train et l' achat des titres de transport .\n",
      "Parsing [sent. 3 len. 11]: Elles offrent aussi divers services commerciaux liés à le voyage .\n",
      "Parsing [sent. 4 len. 16]: Pour certaines gares , le passage de nombreux voyageurs justifie l' installation de fonctions annexes .\n",
      "Parsing [sent. 5 len. 13]: Il s' agit , par exemple , de commerces et services variés .\n",
      "Parsing [sent. 6 len. 12]: Les gares peu importantes sont appelées haltes ou points d' arrêt .\n",
      "Parsing [sent. 7 len. 23]: Le train est un matériel roulant ferroviaire assurant le transport de personnes ou de marchandises sur une ligne de chemin de fer .\n",
      "\n",
      "*******************************************************\n",
      "***  WARNING!! OUT OF MEMORY! THERE WAS NOT ENOUGH  ***\n",
      "***  MEMORY TO RUN ALL PARSERS.  EITHER GIVE THE    ***\n",
      "***  JVM MORE MEMORY, SET THE MAXIMUM SENTENCE      ***\n",
      "***  LENGTH WITH -maxLength, OR PERHAPS YOU ARE     ***\n",
      "***  HAPPY TO HAVE THE PARSER FALL BACK TO USING    ***\n",
      "***  A SIMPLER PARSER FOR VERY LONG SENTENCES.      ***\n",
      "*******************************************************\n",
      "\n",
      "Sentence too long for dependency parser.  Falling back to PCFG parse...\n",
      "Parsing [sent. 8 len. 19]: Par extension , on appelle train le service que constitue chacun de ces transports , réguliers ou non .\n",
      "Parsing [sent. 9 len. 14]: Le train est un mode de transport , s' effectuant sur voie ferrée .\n",
      "Parsing [sent. 10 len. 40]: Cependant , dans l' usage courant , le mot train désigne n' importe quelle circulation ferroviaire , quelle que soit sa composition , depuis le plus simple autorail local jusqu'aux longs trains de grandes lignes ou de transports industriels .\n",
      "Sentence too long for dependency parser.  Falling back to PCFG parse...\n",
      "Parsed file: exemple.txt [10 sentences].\n",
      "\n",
      "*******************************************************\n",
      "***  WARNING!! OUT OF MEMORY! THERE WAS NOT ENOUGH  ***\n",
      "***  MEMORY TO RUN ALL PARSERS.  EITHER GIVE THE    ***\n",
      "***  JVM MORE MEMORY, SET THE MAXIMUM SENTENCE      ***\n",
      "***  LENGTH WITH -maxLength, OR PERHAPS YOU ARE     ***\n",
      "***  HAPPY TO HAVE THE PARSER FALL BACK TO USING    ***\n",
      "***  A SIMPLER PARSER FOR VERY LONG SENTENCES.      ***\n",
      "*******************************************************\n",
      "\n",
      "Parsed 180 words in 10 sentences (44,90 wds/sec; 2,49 sents/sec).\n",
      "  2 sentences were parsed by fallback to PCFG.\n"
     ]
    }
   ],
   "source": [
    "! java -Xmx1024m -cp stanford-corenlp-3.9.2.jar edu.stanford.nlp.parser.lexparser.LexicalizedParser -outputFormat oneline -writeOutputFiles frenchFactored.ser.gz exemple.txt"
   ]
  },
  {
   "cell_type": "markdown",
   "metadata": {},
   "source": [
    "b. Importez le fichier de résultats du LexicalizedParser comme une liste d'arbres, en utilisant la classe `BracketParseCorpusReader` de NLTK.  Chaque ligne contenant une analyse syntaxique sera importée comme un objet `Tree` de NLTK. "
   ]
  },
  {
   "cell_type": "code",
   "execution_count": 1,
   "metadata": {},
   "outputs": [],
   "source": [
    "from nltk.corpus.reader.bracket_parse import BracketParseCorpusReader\n",
    "from nltk.tree import Tree\n",
    "from nltk.draw.tree import TreeView\n",
    "\n",
    "bracket = BracketParseCorpusReader('.', 'exemple.txt.stp')"
   ]
  },
  {
   "cell_type": "code",
   "execution_count": 2,
   "metadata": {},
   "outputs": [],
   "source": [
    "sents = []\n",
    "for sent in bracket.parsed_sents():\n",
    "    sents.append(sent)\n"
   ]
  },
  {
   "cell_type": "markdown",
   "metadata": {},
   "source": [
    "c. Cherchez dans la [documentation](https://www.nltk.org/_modules/nltk/tree.html#Tree) de `Tree` une fonction d'affichage, et affichez l'arbre de la première ligne."
   ]
  },
  {
   "cell_type": "code",
   "execution_count": 3,
   "metadata": {},
   "outputs": [
    {
     "name": "stdout",
     "output_type": "stream",
     "text": [
      "                                   ROOT                                                \n",
      "                                    |                                                   \n",
      "                                   SENT                                                \n",
      "       _____________________________|_______________________________________________    \n",
      "      NP             |         |                           NP                       |  \n",
      "  ____|_______       |         |          _________________|_____________           |   \n",
      " |    |       AP     VN      MWADV       |      |          AP            AP         |  \n",
      " |    |       |      |     ____|____     |      |          |         ____|____      |   \n",
      "DET   NC     ADJ     V    P         N   DET     NC        ADJ      ADV       ADJ   PUNC\n",
      " |    |       |      |    |         |    |      |          |        |         |     |   \n",
      "Les gares voyageurs sont  en       fait des ensembles fonctionnels plus     larges  .  \n",
      "\n",
      "None\n"
     ]
    }
   ],
   "source": [
    "print(sents[0].pretty_print())"
   ]
  },
  {
   "cell_type": "markdown",
   "metadata": {},
   "source": [
    "d.  Écrivez le code qui extrait les groupes nominaux de toutes les phrases (en anglais: Noun Phrases), et qui affiche les 5 les plus fréquents avec leurs nombres d'occurrences."
   ]
  },
  {
   "cell_type": "code",
   "execution_count": 15,
   "metadata": {},
   "outputs": [
    {
     "name": "stdout",
     "output_type": "stream",
     "text": [
      "[('transport', 2), ('Le train', 2), ('Les gares voyageurs', 1), ('des ensembles fonctionnels plus larges', 1), (\"toutes les fonctions centrées sur l' accès à le train et l' achat des titres de transport\", 1)]\n"
     ]
    }
   ],
   "source": [
    "# \n",
    "np_trees = []\n",
    "for sent in sents:\n",
    "    for subtree in sent.subtrees(lambda t: t.label() == 'NP'):\n",
    "        np_trees.append(subtree.leaves())\n",
    "\n",
    "np_freq = {}\n",
    "for np in np_trees:\n",
    "    np_str = ' '.join(np)\n",
    "    if np_str in np_freq:\n",
    "        np_freq[np_str] += 1\n",
    "    else:\n",
    "        np_freq[np_str] = 1\n",
    "\n",
    "sorted_np_freq = sorted(np_freq.items(), key=lambda x: x[1], reverse=True)\n",
    "print(sorted_np_freq[:5])\n",
    "\n"
   ]
  },
  {
   "cell_type": "markdown",
   "metadata": {},
   "source": [
    "e. Veuillez répéter l'expérience avec un texte plus long (un texte en français du projet Gutenberg) et afficher les 20 groupes nominaux les plus fréquents.  Veuillez indiquer approximativement combien de temps a pris l'analyse syntaxique."
   ]
  },
  {
   "cell_type": "code",
   "execution_count": 32,
   "metadata": {},
   "outputs": [],
   "source": [
    "# Importation du texte \"les misérables\"\n",
    "from urllib import request\n",
    "url = 'https://www.gutenberg.org/files/17489/17489-8.txt'\n",
    "response = request.urlopen(url)\n",
    "raw = response.read().decode('ISO-8859-1')\n",
    "\n",
    "# create a file miserables.txt\n",
    "with open('miserables.txt', 'w') as f:\n",
    "    f.write(raw.replace('\\n', ' '))"
   ]
  },
  {
   "cell_type": "code",
   "execution_count": 36,
   "metadata": {},
   "outputs": [
    {
     "name": "stderr",
     "output_type": "stream",
     "text": [
      "Loading parser from serialized file frenchFactored.ser.gz ... done [2.4 sec].\n",
      "Parsing file: miserables.txt\n",
      "edu.stanford.nlp.international.french.process.FrenchLexer: Invalid options key in constructor: splitContractions\n",
      "Parsing [sent. 1 len. 64]: Quoique ce détail ne touche en aucune manière à le fond même de ce que nous avons à raconter , il n' est peut - être pas inutile , ne fût -ce que pour être exact en tout , d' indiquer ici les bruits et les propos qui avaient couru sur son compte à le moment où il était arrivé dans le diocèse .\n",
      "\n",
      "*******************************************************\n",
      "***  WARNING!! OUT OF MEMORY! THERE WAS NOT ENOUGH  ***\n",
      "***  MEMORY TO RUN ALL PARSERS.  EITHER GIVE THE    ***\n",
      "***  JVM MORE MEMORY, SET THE MAXIMUM SENTENCE      ***\n",
      "***  LENGTH WITH -maxLength, OR PERHAPS YOU ARE     ***\n",
      "***  HAPPY TO HAVE THE PARSER FALL BACK TO USING    ***\n",
      "***  A SIMPLER PARSER FOR VERY LONG SENTENCES.      ***\n",
      "*******************************************************\n",
      "\n",
      "Sentence too long for dependency parser.  Falling back to PCFG parse...\n",
      "Parsing [sent. 2 len. 29]: Vrai ou faux , ce qu' on dit des hommes tient souvent autant de place dans leur vie et surtout dans leur destinée que ce qu' ils font .\n",
      "Sentence too long for dependency parser.  Falling back to PCFG parse...\n",
      "Parsing [sent. 3 len. 17]: M. Myriel était fils d' un conseiller à le parlement d' Aix ; noblesse de robe .\n",
      "Parsing [sent. 4 len. 42]: On contait de lui que son père , le réservant pour hériter de sa charge , l' avait marié de fort bonne heure , à dix - huit ou vingt ans , suivant un usage assez répandu dans les familles parlementaires .\n",
      "Sentence too long for dependency parser.  Falling back to PCFG parse...\n",
      "Parsing [sent. 5 len. 18]: Charles Myriel , nonobstant ce mariage , avait , disait -on , beaucoup fait parler de lui .\n",
      "Parsing [sent. 6 len. 38]: Il était bien fait de sa personne , quoique d' assez petite taille , élégant , gracieux , spirituel ; toute la première partie de sa vie avait été donnée à le monde et à les galanteries .\n",
      "Sentence too long for dependency parser.  Falling back to PCFG parse...\n",
      "Parsing [sent. 7 len. 21]: La révolution survint , les événements se précipitèrent , les familles parlementaires décimées , chassées , traquées , se dispersèrent .\n",
      "Sentence too long for dependency parser.  Falling back to PCFG parse...\n",
      "Parsing [sent. 8 len. 16]: M. Charles Myriel , dès les premiers jours de la révolution , émigra en Italie .\n",
      "Parsing [sent. 9 len. 16]: Sa femme y mourut d' une maladie de poitrine dont elle était atteinte depuis longtemps .\n",
      "Parsing [sent. 10 len. 7]: Ils n' avaient point d' enfants .\n",
      "Parsing [sent. 11 len. 12]: Que se passa -t-il ensuite dans la destinée de M. Myriel ?\n",
      "Parsing [sent. 12 len. 55]: L' écroulement de l' ancienne société française , la chute de sa propre famille , les tragiques spectacles de 93 , plus effrayants encore peut - être pour les émigrés qui les voyaient de loin avec le grossissement de l' épouvante , firent -ils germer en lui des idées de renoncement et de solitude ?\n",
      "Sentence too long for dependency parser.  Falling back to PCFG parse...\n",
      "Parsing [sent. 13 len. 62]: Fut -il , à le milieu d' une de ces distractions et de ces affections qui occupaient sa vie , subitement atteint d' un de ces coups mystérieux et terribles qui viennent quelquefois renverser , en le frappant à le coeur , l' homme que les catastrophes publiques n' ébranleraient pas en le frappant dans son existence et dans sa fortune ?\n",
      "Sentence too long for dependency parser.  Falling back to PCFG parse...\n",
      "Parsing [sent. 14 len. 26]: Nul n' aurait pu le dire ; tout ce qu' on savait , c' est que , lorsqu'il revint d' Italie , il était prêtre .\n",
      "Sentence too long for dependency parser.  Falling back to PCFG parse...\n",
      "Parsing [sent. 15 len. 10]: En 1804 , M. Myriel était curé de Brignolles .\n",
      "Parsing [sent. 16 len. 12]: Il était déjà vieux , et vivait dans une retraite profonde .\n",
      "Parsing [sent. 17 len. 26]: Vers l' époque de le couronnement , une petite affaire de sa cure , on ne sait plus trop quoi , l' amena à Paris .\n",
      "Sentence too long for dependency parser.  Falling back to PCFG parse...\n",
      "Parsing [sent. 18 len. 16]: Entre autres personnes puissantes , il alla solliciter pour ses paroissiens M. le cardinal Fesch .\n",
      "Parsing [sent. 19 len. 32]: Un jour que l' empereur était venu faire visite à son oncle , le digne curé , qui attendait dans l' antichambre , se trouva sur le passage de sa majesté .\n",
      "Sentence too long for dependency parser.  Falling back to PCFG parse...\n",
      "Parsing [sent. 20 len. 29]: Napoléon , se voyant regardé avec une certaine curiosité par ce vieillard , se retourna , et dit brusquement : -- Quel est ce bonhomme qui me regarde ?\n",
      "Sentence too long for dependency parser.  Falling back to PCFG parse...\n",
      "Parsing [sent. 21 len. 20]: -- Sire , dit M. Myriel , vous regardez un bonhomme , et moi je regarde un grand homme .\n",
      "Sentence too long for dependency parser.  Falling back to PCFG parse...\n",
      "Parsing [sent. 22 len. 6]: Chacun de nous peut profiter .\n",
      "Parsing [sent. 23 len. 36]: L' empereur , le soir même , demanda à le cardinal le nom de ce curé , et quelque temps après M. Myriel fut tout surpris d' apprendre qu' il était nommé évêque de Digne .\n",
      "Sentence too long for dependency parser.  Falling back to PCFG parse...\n",
      "Parsing [sent. 24 len. 28]: Qu' y avait -il de vrai , de le reste , dans les récits qu' on faisait sur la première partie de la vie de M. Myriel ?\n",
      "Sentence too long for dependency parser.  Falling back to PCFG parse...\n",
      "Parsing [sent. 25 len. 5]: Personne ne le savait .\n",
      "Parsing [sent. 26 len. 12]: Peu de familles avaient connu la famille Myriel avant la révolution .\n",
      "Parsing [sent. 27 len. 31]: M. Myriel devait subir le sort de tout nouveau venu dans une petite ville où il y a beaucoup de bouches qui parlent et fort peu de têtes qui pensent .\n",
      "Sentence too long for dependency parser.  Falling back to PCFG parse...\n",
      "Parsing [sent. 28 len. 15]: Il devait le subir , quoiqu'il fût évêque et parce qu' il était évêque .\n",
      "Parsing [sent. 29 len. 50]: Mais , après tout , les propos auxquels on mêlait son nom n' étaient peut - être que des propos ; de le bruit , des mots , des paroles ; moins que des paroles , des _ palabres _ , comme dit l' énergique langue de le midi .\n",
      "Sentence too long for dependency parser.  Falling back to PCFG parse...\n",
      "Parsing [sent. 30 len. 45]: Quoi qu' il en fût , après neuf ans d' épiscopat et de résidence à Digne , tous ces racontages , sujets de conversation qui occupent dans le premier moment les petites villes et les petites gens , étaient tombés dans un oubli profond .\n",
      "Sentence too long for dependency parser.  Falling back to PCFG parse...\n",
      "Parsing [sent. 31 len. 16]: Personne n' eût osé en parler , personne n' eût même osé s' en souvenir .\n",
      "Parsing [sent. 32 len. 29]: M. Myriel était arrivé à Digne accompagné d' une vieille fille , mademoiselle Baptistine , qui était sa soeur et qui avait dix ans de moins que lui .\n",
      "Sentence too long for dependency parser.  Falling back to PCFG parse...\n",
      "Parsing [sent. 33 len. 51]: Ils avaient pour tout domestique une servante de le même âge que mademoiselle Baptistine , et appelée madame Magloire , laquelle , après avoir été -la servante de M. le Curé _ , prenait maintenant le double titre de femme de chambre de mademoiselle et femme de charge de monseigneur .\n",
      "Sentence too long for dependency parser.  Falling back to PCFG parse...\n",
      "Parsing [sent. 34 len. 43]: Mademoiselle Baptistine était une personne longue , pâle , mince , douce ; elle réalisait l' idéal de ce qu' exprime le mot \" respectable \" ; car il semble qu' il soit nécessaire qu' une femme soit mère pour être vénérable .\n",
      "Sentence too long for dependency parser.  Falling back to PCFG parse...\n",
      "Parsing [sent. 35 len. 55]: Elle n' avait jamais été jolie ; toute sa vie , qui n' avait été qu' une suite de saintes oeuvres , avait fini par mettre sur elle une sorte de blancheur et de clarté ; et , en vieillissant , elle avait gagné ce qu' on pourrait appeler la beauté de la bonté .\n",
      "Sentence too long for dependency parser.  Falling back to PCFG parse...\n",
      "Parsing [sent. 36 len. 29]: Ce qui avait été de la maigreur dans sa jeunesse était devenu , dans sa maturité , de la transparence ; et cette diaphanéité laissait voir l' ange .\n",
      "Sentence too long for dependency parser.  Falling back to PCFG parse...\n",
      "Parsing [sent. 37 len. 13]: C' était une âme plus encore que ce n' était une vierge .\n",
      "Parsing [sent. 38 len. 46]: Sa personne semblait faite d' ombre ; à peine assez de corps pour qu' il y eût là un sexe ; un peu de matière contenant une lueur ; de grands yeux toujours baissés ; un prétexte pour qu' une âme reste sur la terre .\n",
      "Sentence too long for dependency parser.  Falling back to PCFG parse...\n",
      "Parsing [sent. 39 len. 33]: Madame Magloire était une petite vieille , blanche , grasse , replète , affairée , toujours haletante , à cause de son activité d' abord , ensuite à cause d' un asthme .\n",
      "Sentence too long for dependency parser.  Falling back to PCFG parse...\n",
      "Parsing [sent. 40 len. 31]: À son arrivée , on installa M. Myriel en son palais épiscopal avec les honneurs voulus par les décrets impériaux qui classent l' évêque immédiatement après le maréchal de camp .\n",
      "Sentence too long for dependency parser.  Falling back to PCFG parse...\n",
      "Parsing [sent. 41 len. 28]: Le maire et le président lui firent la première visite , et lui de son côté fit la première visite à le général et à le préfet .\n",
      "Sentence too long for dependency parser.  Falling back to PCFG parse...\n",
      "Parsing [sent. 42 len. 13]: L' installation terminée , la ville attendit son évêque à l' oeuvre .\n",
      "Parsing [sent. 43 len. 18]: Chapitre II Monsieur Myriel devient monseigneur Bienvenu Le palais épiscopal de Digne était attenant à l' hôpital .\n",
      "Parsing [sent. 44 len. 45]: Le palais épiscopal était un vaste et bel hôtel bâti en pierre à le commencement de le siècle dernier par monseigneur Henri Puget , docteur en théologie de la faculté de Paris , abbé de Simore , lequel était évêque de Digne en 1712 .\n",
      "Sentence too long for dependency parser.  Falling back to PCFG parse...\n",
      "Parsing [sent. 45 len. 8]: Ce palais était un vrai logis seigneurial .\n",
      "Parsing [sent. 46 len. 44]: Tout y avait grand air , les appartements de l' évêque , les salons , les chambres , la cour d' honneur , fort large , avec promenoirs à arcades , selon l' ancienne mode florentine , les jardins plantés de magnifiques arbres .\n",
      "Sentence too long for dependency parser.  Falling back to PCFG parse...\n",
      "Parsing [sent. 47 len. 34]: Les portraits de ces sept révérends personnages décoraient cette salle , et cette date mémorable , 29 juillet 1714 , y était gravée en lettres d' or sur une table de marbre blanc .\n",
      "Sentence too long for dependency parser.  Falling back to PCFG parse...\n",
      "Parsing [sent. 48 len. 17]: L' hôpital était une maison étroite et basse à un seul étage avec un petit jardin .\n",
      "Parsing [sent. 49 len. 12]: Trois jours après son arrivée , l' évêque visita l' hôpital .\n",
      "Parsing [sent. 50 len. 17]: La visite terminée , il fit prier le directeur de vouloir bien venir jusque chez lui .\n",
      "Parsing [sent. 51 len. 21]: -- Monsieur le directeur de l' hôpital , lui dit -il , combien en ce moment avez -vous de malades ?\n",
      "Sentence too long for dependency parser.  Falling back to PCFG parse...\n",
      "Parsing [sent. 52 len. 7]: -- Vingt - six , monseigneur .\n",
      "Parsing [sent. 53 len. 13]: -- C' est ce que j' avais compté , dit l' évêque .\n",
      "Parsing [sent. 54 len. 17]: -- Les lits , reprit le directeur , sont bien serrés les uns contre les autres .\n",
      "Parsing [sent. 55 len. 9]: -- C' est ce que j' avais remarqué .\n",
      "Parsing [sent. 56 len. 17]: -- Les salles ne sont que des chambres , et l' air s' y renouvelle difficilement .\n",
      "Parsing [sent. 57 len. 8]: -- C' est ce qui me semble .\n",
      "Parsing [sent. 58 len. 22]: -- Et puis , quand il y a un rayon de soleil , le jardin est bien petit pour les convalescents .\n",
      "Sentence too long for dependency parser.  Falling back to PCFG parse...\n",
      "Parsing [sent. 59 len. 9]: -- C' est ce que je me disais .\n",
      "Parsing [sent. 60 len. 35]: -- Dans les épidémies , nous avons eu cette année le typhus , nous avons eu une suette militaire il y a deux ans , cent malades quelquefois ; nous ne savons que faire .\n",
      "Sentence too long for dependency parser.  Falling back to PCFG parse...\n",
      "Parsing [sent. 61 len. 10]: -- C' est la pensée qui m' était venue .\n",
      "Parsing [sent. 62 len. 7]: -- Que voulez -vous , monseigneur ?\n",
      "Parsing [sent. 63 len. 9]: dit le directeur , il faut se résigner .\n",
      "Parsing [sent. 64 len. 19]: Cette conversation avait lieu dans la salle à manger - galerie de le rez - de - chaussée .\n",
      "Parsing [sent. 65 len. 40]: L' évêque garda un moment le silence , puis il se tourna brusquement vers le directeur de l' hôpital : -- Monsieur , dit -il , combien pensez -vous qu' il tiendrait de lits rien que dans cette salle ?\n",
      "Sentence too long for dependency parser.  Falling back to PCFG parse...\n",
      "Parsing [sent. 66 len. 8]: -- La salle à manger de monseigneur !\n",
      "Parsing [sent. 67 len. 6]: s' écria le directeur stupéfait .\n",
      "Parsing [sent. 68 len. 21]: L' évêque parcourait la salle de le regard et semblait y faire avec les yeux des mesures et des calculs .\n",
      "Sentence too long for dependency parser.  Falling back to PCFG parse...\n",
      "Parsing [sent. 69 len. 8]: -- Il y tiendrait bien vingt lits !\n",
      "Parsing [sent. 70 len. 11]: dit -il , comme se parlant à lui - même .\n",
      "Parsing [sent. 71 len. 20]: Puis élevant la voix : -- Tenez , monsieur le directeur de l' hôpital , je vais vous dire .\n",
      "Parsing [sent. 72 len. 7]: Il y a évidemment une erreur .\n",
      "Parsing [sent. 73 len. 13]: Vous êtes vingt - six personnes dans cinq ou six petites chambres .\n",
      "Parsing [sent. 74 len. 12]: Nous sommes trois ici , et nous avons place pour soixante .\n",
      "Parsing [sent. 75 len. 9]: Il y a erreur , je vous dis .\n",
      "Parsing [sent. 76 len. 11]: Vous avez mon logis , et j' ai le vôtre .\n",
      "Parsing [sent. 77 len. 5]: Rendez -moi ma maison .\n",
      "Parsing [sent. 78 len. 6]: C' est ici chez vous .\n",
      "Parsing [sent. 79 len. 24]: Le lendemain , les vingt - six pauvres étaient installés dans le palais de l' évêque et l' évêque était à l' hôpital .\n",
      "Sentence too long for dependency parser.  Falling back to PCFG parse...\n",
      "Parsing [sent. 80 len. 17]: M. Myriel n' avait point de bien , sa famille ayant été ruinée par la révolution .\n",
      "Parsing [sent. 81 len. 22]: Sa soeur touchait une rente viagère de cinq cents francs qui , à le presbytère , suffisait à sa dépense personnelle .\n",
      "Sentence too long for dependency parser.  Falling back to PCFG parse...\n",
      "Parsing [sent. 82 len. 15]: M. Myriel recevait de l' état comme évêque un traitement de quinze mille francs .\n",
      "Parsing [sent. 83 len. 32]: Le jour même où il vint se loger dans la maison de l' hôpital , M. Myriel détermina l' emploi de cette somme une fois pour toutes de la manière suivante .\n",
      "Sentence too long for dependency parser.  Falling back to PCFG parse...\n",
      "Parsing [sent. 84 len. 10]: Nous transcrivons ici une note écrite de sa main .\n",
      "Parsing [sent. 85 len. 10]: _ Note pour régler les dépenses de ma maison .\n",
      "Parsing [sent. 86 len. 230]: _ _ Pour le petit séminaire : quinze cents livres _ _ Congrégation de la mission : cent livres _ _ Pour les lazaristes de Montdidier : cent livres _ _ Séminaire des missions étrangères à Paris : deux cents livres _ _ Congrégation de le Saint - Esprit : cent cinquante livres _ _ Établissements religieux de la Terre - Sainte : cent livres _ _ Sociétés de charité maternelle : trois cents livres _ _ En sus , pour celle d' Arles : cinquante livres _ _ OEuvre pour l' amélioration des prisons : quatre cents livres _ _ OEuvre pour le soulagement et la délivrance des prisonniers : cinq cents livres _ _ Pour libérer des pères de famille prisonniers pour dettes : mille livres _ _ Supplément à le traitement des pauvres maîtres d' école de le diocèse : deux mille livres _ _ Grenier d' abondance des Hautes - Alpes : cent livres _ _ Congrégation des dames de Digne , de Manosque et de Sisteron , pour l' enseignement gratuit des filles indigentes : quinze cents livres _ _ Pour les pauvres : six mille livres _ _ Ma dépense personnelle : mille livres _ Total : _ quinze mille livres _ Pendant tout le temps qu' il occupa le siège de Digne , M. Myriel ne changea presque rien à cet arrangement .\n",
      "Sentence has no parse using PCFG grammar (or no PCFG fallback).  Skipping...\n",
      "Exception in thread \"main\" java.lang.IllegalStateException: originalWords and sentence of different sizes: 230 vs. 10\n",
      " Orig: _ _ Pour le petit s�minaire : quinze cents livres _ _ Congr�gation de la mission : cent livres _ _ Pour les lazaristes de Montdidier : cent livres _ _ S�minaire des missions �trang�res � Paris : deux cents livres _ _ Congr�gation de le Saint - Esprit : cent cinquante livres _ _ �tablissements religieux de la Terre - Sainte : cent livres _ _ Soci�t�s de charit� maternelle : trois cents livres _ _ En sus , pour celle d' Arles : cinquante livres _ _ OEuvre pour l' am�lioration des prisons : quatre cents livres _ _ OEuvre pour le soulagement et la d�livrance des prisonniers : cinq cents livres _ _ Pour lib�rer des p�res de famille prisonniers pour dettes : mille livres _ _ Suppl�ment � le traitement des pauvres ma�tres d' �cole de le dioc�se : deux mille livres _ _ Grenier d' abondance des Hautes - Alpes : cent livres _ _ Congr�gation des dames de Digne , de Manosque et de Sisteron , pour l' enseignement gratuit des filles indigentes : quinze cents livres _ _ Pour les pauvres : six mille livres _ _ Ma d�pense personnelle : mille livres _ Total : _ quinze mille livres _ Pendant tout le temps qu' il occupa le si�ge de Digne , M. Myriel ne changea presque rien � cet arrangement .\n",
      " Pars: _ Note pour r�gler les d�penses de ma maison .\n",
      "\tat edu.stanford.nlp.parser.lexparser.LexicalizedParserQuery.restoreOriginalWords(LexicalizedParserQuery.java:317)\n",
      "\tat edu.stanford.nlp.parser.lexparser.LexicalizedParserQuery.getBestDependencyParse(LexicalizedParserQuery.java:607)\n",
      "\tat edu.stanford.nlp.parser.lexparser.LexicalizedParserQuery.getBestParse(LexicalizedParserQuery.java:401)\n",
      "\tat edu.stanford.nlp.parser.lexparser.LexicalizedParserQuery.getBestParse(LexicalizedParserQuery.java:375)\n",
      "\tat edu.stanford.nlp.parser.lexparser.ParseFiles.processResults(ParseFiles.java:272)\n",
      "\tat edu.stanford.nlp.parser.lexparser.ParseFiles.parseFiles(ParseFiles.java:216)\n",
      "\tat edu.stanford.nlp.parser.lexparser.ParseFiles.parseFiles(ParseFiles.java:75)\n",
      "\tat edu.stanford.nlp.parser.lexparser.LexicalizedParser.main(LexicalizedParser.java:1518)\n"
     ]
    }
   ],
   "source": [
    "! java -Xmx1024m -cp stanford-corenlp-3.9.2.jar edu.stanford.nlp.parser.lexparser.LexicalizedParser -outputFormat oneline -writeOutputFiles frenchFactored.ser.gz miserables.txt"
   ]
  },
  {
   "cell_type": "code",
   "execution_count": 38,
   "metadata": {},
   "outputs": [
    {
     "name": "stdout",
     "output_type": "stream",
     "text": [
      "                                                                                                                                                                                          ROOT                                                                                                                                                                                                       \n",
      "                                                                                                                                                                                           |                                                                                                                                                                                                          \n",
      "                                                                                                                                                                                          SENT                                                                                                                                                                                                       \n",
      "          _________________________________________________________________________________________________________________________________________________________________________________|______________________________________________________________________________________________________________________________________________________________________________________________________    \n",
      "         |              |                             |                                                                             Ssub                                                                                                                                                                                                                                                          |  \n",
      "         |              |                             |                        ______________________________________________________|_________________________________________________________________________                                                                                                                                                                                   |   \n",
      "         |              |                             |                       |            |              |             |                 |                               |        |                           NP                                                                                                                                                                                 |  \n",
      "         |              |                             |                       |            |              |             |                 |                               |        |        ___________________|________________________                                                                                                                                                          |   \n",
      "         |              |                             |                       |            |              |             |                 |                               |        |       |                                           Srel                                                                                                                                                       |  \n",
      "         |              |                             |                       |            |              |             |                 |                               |        |       |     _______________________________________|____________________________________________________                                                                                                     |   \n",
      "         |              |                             |                       |            |              |             |                 |                               |        |       |    |                                                                                          VPinf                                                                                                  |  \n",
      "         |              |                             |                       |            |              |             |                 |                               |        |       |    |    ________________________________________________________________________________________|_____________________________________________________________                                       |   \n",
      "         |              |                             |                       |            |              |             |                 |                               |        |       |    |   |    |     |         |                           COORD                                                                                                 |                                      |  \n",
      "         |              |                             |                       |            |              |             |                 |                               |        |       |    |   |    |     |         |          ___________________|____________________                                                                               |                                      |   \n",
      "         |              |                             |                       |            |              |             |                 |                               |        |       |    |   |    |     |         |         |                                      VPinf                                                                            |                                      |  \n",
      "         |              |                             |                       |            |              |             |                 |                               |        |       |    |   |    |     |         |         |     ___________________________________|________________                                                              |                                      |   \n",
      "         |              |                             |                       |            |              |             |                Sint                             |        |       |    |   |    |     |         |         |    |      |       |                                     NP                                                            |                                      |  \n",
      "         |              |                             |                       |            |              |             |         ________|______________                 |        |       |    |   |    |     |         |         |    |      |       |     ________________________________|__________________                                           |                                      |   \n",
      "         |              |                             |                       |            |              |             |        |                       AP               |        |       |    |   |    |     |         |         |    |      |       |    |    |          |                                  Srel                                       Ssub                                    |  \n",
      "         |              |                             |                       |            |              |             |        |                    ___|__________      |        |       |    |   |    |     |         |         |    |      |       |    |    |          |                 __________________|________                    ______________|______________________                |   \n",
      "         |              |                            AdP                      |            |            VPinf           |        |                  AdP             |     |        |       |    |   |    |     |         |         |    |      |       |    |    |        COORD              |             |             PP                 |                    |                PP              |  \n",
      "         |              |                _____________|____                   |            |          ____|______       |        |               ____|________      |     |        |       |    |   |    |     |         |         |    |      |       |    |    |      ____|____            |             |          ___|___               |                    |            ____|___            |   \n",
      "         NP             VN            MWADV              MWADV               MWC           VN        |           VN     |        VN           MWADV           |     |     |        VN      |    |   |    VN    AP      MWADV       |    |      VN      |    |    |     |         NP          NP            VN        |       NP            MWC                   VN          |        NP          |  \n",
      "    _____|____       ___|____       ____|_______       ____|_________      ___|___     ____|____     |           |      |     ___|___      _____|________     |     |     |     ___|___    |    |   |    |     |     ____|____     |    |      |       |    |    |     |     ____|____       |        _____|____     |    ___|____       ___|__________     _____|_____      |     ___|_____      |   \n",
      "  ADJ   DET   NC   ADV       V     P   DET      N     P   DET   N   ADJ   P  PRO  C  CLS        V    P          VINF   PUNC CLS ADV  V    V    PUNC      V   ADV   ADJ   PUNC ADV      VS PRO   CS  P   VINF  ADJ   P        ADV  PUNC  P     VINF    ADV  DET   NC    CC  DET        NC   PROREL    V         VPP   P  DET       NC    P  DET   N    PRO CLS    V    VPP    P   DET        NC   PUNC\n",
      "   |     |    |     |        |     |    |       |     |    |    |    |    |   |   |   |         |    |           |      |    |   |   |    |     |        |    |     |     |    |       |   |    |   |    |     |    |         |    |    |      |       |    |    |     |    |         |      |       |          |    |   |        |     |   |    |     |   |     |     |     |    |         |     |   \n",
      "Quoique  ce détail  ne     touche  en aucune manière  à    le  fond même  de  ce que nous     avons  à        raconter  ,    il  n' est  peut   -       être pas inutile  ,    ne     fût -ce  que pour être exact  en       tout  ,    d'  indiquer  ici  les bruits  et  les      propos  qui   avaient     couru sur son     compte  à   le moment  où  il  était arrivé dans  le     diocèse  .  \n",
      "\n",
      "None\n"
     ]
    }
   ],
   "source": [
    "from nltk.corpus.reader.bracket_parse import BracketParseCorpusReader\n",
    "from nltk.tree import Tree\n",
    "from nltk.draw.tree import TreeView\n",
    "\n",
    "bracket = BracketParseCorpusReader('.', 'miserables.txt.stp')\n",
    "\n",
    "sents = []\n",
    "for sent in bracket.parsed_sents():\n",
    "    sents.append(sent)\n",
    "\n",
    "print(sents[0].pretty_print())"
   ]
  },
  {
   "cell_type": "code",
   "execution_count": 40,
   "metadata": {},
   "outputs": [
    {
     "name": "stdout",
     "output_type": "stream",
     "text": [
      "[('qui', 17), ('M. Myriel', 12), ('--', 8), (\"l' hôpital\", 7), (\"l' évêque\", 5), (\"qu'\", 4), ('Digne', 4), ('la révolution', 3), ('évêque', 3), ('monseigneur', 3), ('que', 3), ('lui', 2), ('sa vie', 2), ('Italie', 2), ('ce', 2), ('Paris', 2), ('évêque de Digne', 2), ('Personne', 2), ('où', 2), ('des paroles', 2)]\n"
     ]
    }
   ],
   "source": [
    "\n",
    "np_trees = []\n",
    "for sent in sents:\n",
    "    for subtree in sent.subtrees(lambda t: t.label() == 'NP'):\n",
    "        np_trees.append(subtree.leaves())\n",
    "\n",
    "np_freq = {}\n",
    "for np in np_trees:\n",
    "    np_str = ' '.join(np)\n",
    "    if np_str in np_freq:\n",
    "        np_freq[np_str] += 1\n",
    "    else:\n",
    "        np_freq[np_str] = 1\n",
    "\n",
    "sorted_np_freq = sorted(np_freq.items(), key=lambda x: x[1], reverse=True)\n",
    "print(sorted_np_freq[:20])\n"
   ]
  },
  {
   "attachments": {},
   "cell_type": "markdown",
   "metadata": {},
   "source": [
    "L'analyse syntaxique a pris environ une minute. Il y a beaucoup de phrases qui sont trop longues pour être parsées correctement par le parser de Stanford. Néanmoins nous avons estimé que les 85 phrases parsées étaient suffisantes pour avoir une idée de la fréquence des groupes nominaux."
   ]
  },
  {
   "cell_type": "markdown",
   "metadata": {},
   "source": [
    "## 2. Analyse de dépendances\n",
    "\n",
    "Dans cette partie, vous utiliserez le [Stanford Dependency Parser](https://nlp.stanford.edu/software/nndep.html), un analyseur fondé sur un réseau de neurones.\n",
    "\n",
    "* **code Java** : fichier `stanford-corenlp-3.9.2.jar` (8 Mo) fourni sur Cyberlearn (note: on peut le télécharger avec un [package fourni par Stanford](https://nlp.stanford.edu/software/lex-parser.html) ou depuis le [site Maven de Stanford CoreNLP](https://search.maven.org/artifact/edu.stanford.nlp/stanford-corenlp/3.9.2/jar))\n",
    "* **modèle** : fichier `UD_French.gz` (10 Mo) fourni sur Cyberlearn (note: plusieurs modèles sont disponibles sur le site Maven, dont un package pour le français de 272 MB, mais ici vous aurez seulement besoin du modèle UD pour Universal Dependencies)\n",
    "* **données** : les mêmes que pour le labo 2, disponibles dans [l'archive ZIP fournie par l'enseignant](https://drive.switch.ch/index.php/s/5ZNllZOApTWHGwH) (mot de passe = reference).  Ces textes en français proviennent du projet [Universal Dependencies (UD)](https://github.com/UniversalDependencies/UD_French-GSD).  Le fichier `fr-ud-train.conllu3` est destiné à l'entraînement, `fr-ud-dev.conllu3` à la validation, et `fr-ud-test.conllu3` à l'évaluation finale."
   ]
  },
  {
   "cell_type": "markdown",
   "metadata": {},
   "source": [
    "Pour effectuer les tâches suivantes, utilisez la [documentation](https://nlp.stanford.edu/nlp/javadoc/javanlp/edu/stanford/nlp/parser/nndep/DependencyParser.html) et regardez surtout le `main()` et les exemples données à la fin.\n",
    "\n",
    "a. Exécuter le parser en Java (avec une commande externe `!java -cp ...` comme au labo 2) en l'appliquant au fichier UD de *test* en français.  Écrivez le résultat détaillé dans un fichier plutôt qu'à l'écran.  Quels sont les deux scores obtenus et que signifient-ils ?\n"
   ]
  },
  {
   "cell_type": "code",
   "execution_count": null,
   "metadata": {},
   "outputs": [],
   "source": [
    "# Veuillez écrire ici la commande pour tester le parser avec le modèle pré-entraîné.\n"
   ]
  },
  {
   "cell_type": "code",
   "execution_count": null,
   "metadata": {},
   "outputs": [],
   "source": []
  },
  {
   "cell_type": "markdown",
   "metadata": {},
   "source": [
    "## 3. Entraîner l'analyseur de dépendances\n",
    "\n",
    "a. Veuillez entraîner l'analyseur en suivant les indications suivantes:\n",
    "* donnez un nouveau nom au modèle qui sera créé (ne pas écraser l'ancien)\n",
    "* utilisez à la fois `train` et `dev` comme indiqué dans la documentation\n",
    "* évitez un output trop verbeux en le redirigeant vers un fichier `output.txt` (ajoutez `>output.txt 2>&1` à la commande)\n",
    "* plusieurs options indiquées dans la documentation peuvent être utiles\n",
    "  * `-wordCutOff 3` pour traiter seulement les mots apparaissant plus de 3 fois, ce qui évite en particulier le problème des nombres écrits avec un espace (apparaissant 1 fois)\n",
    "  * `-trainingThreads 4` pour utiliser pleinement votre processeur : indiquez le maximum selon votre modèle\n",
    "  * `-maxIter 5000` pour arrêter l'entraînement après 5000 itérations (essayez d'abord beaucoup moins pour vous faire une idée du temps, puis si vous le pouvez, allez plus loin que 5000)"
   ]
  },
  {
   "cell_type": "code",
   "execution_count": null,
   "metadata": {},
   "outputs": [],
   "source": [
    "# Veuillez écrire ici la commande pour entraîner l'analyseur sur le fichier 'train' et créer un nouveau modèle.\n",
    "# Pour ne pas bloquer votre notebook, vous pouvez l'exécuter dans l'invite de commandes.\n"
   ]
  },
  {
   "cell_type": "markdown",
   "metadata": {},
   "source": [
    "b. Quels sont les scores (sur les données de test) du système que vous avez entraîné ?  Comment se comparent-ils avec ceux du système par défaut ?"
   ]
  },
  {
   "cell_type": "code",
   "execution_count": null,
   "metadata": {},
   "outputs": [],
   "source": [
    "# Veuillez écrire ici la commande pour tester l'analyseur avec le nouveau modèle.\n"
   ]
  },
  {
   "cell_type": "code",
   "execution_count": null,
   "metadata": {},
   "outputs": [],
   "source": []
  },
  {
   "cell_type": "markdown",
   "metadata": {},
   "source": [
    "c. En traitant le fichier de logs du parser (après l'entraînement), collectez les scores UAS obtenus sur l'ensemble de développement (ou validation).  Affichez sur un graphe l'évolution du score au cours de l'entraînement.  À quelle itération obtenez-vous la valeur maximale de ce score ? Le nombre d'itérations de l'entraînement vous semble-t-il suffisant  ?"
   ]
  },
  {
   "cell_type": "code",
   "execution_count": null,
   "metadata": {},
   "outputs": [],
   "source": [
    "# Veuillez écrire ici le code qui extrait les valeurs.\n"
   ]
  },
  {
   "cell_type": "code",
   "execution_count": null,
   "metadata": {},
   "outputs": [],
   "source": [
    "import matplotlib.pyplot\n",
    "%matplotlib inline"
   ]
  },
  {
   "cell_type": "code",
   "execution_count": null,
   "metadata": {},
   "outputs": [],
   "source": [
    "# Écrivez ici le code affichant les deux courbes.  \n"
   ]
  },
  {
   "cell_type": "markdown",
   "metadata": {},
   "source": [
    "## Fin du laboratoire 3\n",
    "\n",
    "Merci de nettoyer votre feuille et de la sauvegarder.  Puis soumettez-la sur Cyberlearn."
   ]
  }
 ],
 "metadata": {
  "kernelspec": {
   "display_name": "isd",
   "language": "python",
   "name": "python3"
  },
  "language_info": {
   "codemirror_mode": {
    "name": "ipython",
    "version": 3
   },
   "file_extension": ".py",
   "mimetype": "text/x-python",
   "name": "python",
   "nbconvert_exporter": "python",
   "pygments_lexer": "ipython3",
   "version": "3.9.1"
  }
 },
 "nbformat": 4,
 "nbformat_minor": 2
}
